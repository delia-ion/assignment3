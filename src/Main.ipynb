{
 "cells": [
  {
   "cell_type": "code",
   "execution_count": 5,
   "metadata": {},
   "outputs": [],
   "source": [
    "from Maze import Maze\n",
    "from Agent import Agent\n",
    "from MyQLearning import MyQLearning\n",
    "from MyEGreedy import MyEGreedy"
   ]
  },
  {
   "cell_type": "code",
   "execution_count": 5,
   "metadata": {},
   "outputs": [],
   "source": [
    "# Load the maze\n",
    "file = \"../data/toy_maze.txt\"\n",
    "maze = Maze(file)\n",
    "\n",
    "# Set the reward at the bottom right to 10\n",
    "maze.set_reward(maze.get_state(9, 9), 10)\n",
    "\n",
    "# Create a robot at starting and reset location (0,0) (top left)\n",
    "robot = Agent(0, 0)\n",
    "\n",
    "# Parameters\n",
    "alfa = 0.5\n",
    "gamma = 0.9\n",
    "epsilon = 1.0\n",
    "epsilon_min = 0.1\n",
    "epsilon_decay = 0.995\n",
    "max_episodes = 1000\n",
    "max_steps = 1000\n",
    "consecutive_episodes = 5\n",
    "max_steps_threshold = 25 * 25  # Threshold for stopping criterion\n",
    "\n",
    "# Initialize objects\n",
    "selection = MyEGreedy()\n",
    "learn = MyQLearning()\n",
    "\n",
    "consecutive_episode_count = 0\n",
    "\n",
    "for episode in range(max_episodes):\n",
    "    state = robot.get_state(maze)\n",
    "    steps = 0\n",
    "\n",
    "    while steps < max_steps:\n",
    "        action = selection.get_egreedy_action(robot, maze, learn, epsilon)\n",
    "        state_next = robot.do_action(action, maze)\n",
    "        r = maze.get_reward(state_next)\n",
    "        possible_actions = maze.get_valid_actions(robot)\n",
    "\n",
    "        learn.update_q(state, action, r, state_next, possible_actions, alfa, gamma)\n",
    "\n",
    "        state = state_next\n",
    "        steps += 1\n",
    "\n",
    "        if state == maze.get_state(9, 9):  # reached goal\n",
    "            robot.reset()\n",
    "            break\n",
    "\n",
    "    epsilon = max(epsilon_min, epsilon * epsilon_decay)\n",
    "\n",
    "    if steps <= max_steps_threshold:\n",
    "        consecutive_episode_count += 1\n",
    "    else:\n",
    "        consecutive_episode_count = 0\n",
    "\n",
    "    if consecutive_episode_count >= consecutive_episodes:\n",
    "        print(f\"Stopping after {episode + 1} episodes\")\n",
    "        break"
   ]
  },
  {
   "cell_type": "code",
   "execution_count": 10,
   "outputs": [
    {
     "name": "stdout",
     "output_type": "stream",
     "text": [
      "Ready reading maze file ../data/toy_maze.txt\n",
      "Made EGreedy\n",
      "Episode 0: 246 steps\n",
      "Episode 100: 28 steps\n",
      "Stopping after 106 episodes\n",
      "Optimal path:\n",
      "28\n"
     ]
    }
   ],
   "source": [],
   "metadata": {
    "collapsed": false
   }
  }
 ],
 "metadata": {
  "kernelspec": {
   "display_name": "Python 3",
   "language": "python",
   "name": "python3"
  },
  "language_info": {
   "name": "python",
   "version": "3.9.10 (tags/v3.9.10:f2f3f53, Jan 17 2022, 15:14:21) [MSC v.1929 64 bit (AMD64)]"
  },
  "orig_nbformat": 4,
  "vscode": {
   "interpreter": {
    "hash": "2469a70536e4d2335a2ea8907942d0699c37342a371ac185bdb5b0aa6f073890"
   }
  }
 },
 "nbformat": 4,
 "nbformat_minor": 2
}
